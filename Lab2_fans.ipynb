{
 "cells": [
  {
   "cell_type": "markdown",
   "metadata": {},
   "source": [
    "# Fan Morphometry – Lab #2 – GEOG 498/ Basin and Range\n",
    "\n",
    "This laboratory exercise builds upon the field work completed in Death Valley as\n",
    "part of  GEOG-333 activities. The purpose of the lab is to understand lithologic, \n",
    "tectonic and morphometric controls of alluvial fan development. \n",
    "\n",
    "Materials needed:\n",
    "\n",
    "1. Shape file of fan catchments with attributes such as min, max elevation [$m$] slope [$^{\\circ}$] and area [$m^{2}$] \n",
    "2. Google Earth Pro (everyone should be able to access this software as it’s free)\n",
    "3. Google Earth map of [Death Valley](https://mrdata.usgs.gov/geology/state/kml/cageol.kmz).            **note**: If you prefer a real paper map of the valley you can get that [here](ftp://ftp.consrv.ca.gov/pub/dmg/pubs/gam/GAM_004_Death_Valley/GAM_004_Map_1974.pdf).\n"
   ]
  },
  {
   "cell_type": "markdown",
   "metadata": {},
   "source": [
    "## What we need to do\n",
    "\n",
    "\n",
    "1. Start Google Earth and open the fan catchment area shape file.  Notice that selecting one of the polygons by clicking on it will yield catchment attributes (see point (a) above). \n",
    "2. In Google Earth digitize the fan area below each contributing catchment. For some catchments with coalescing fans you’ll have to do your best to project likely fan area. \n",
    "3. Use graphing software (or the python code below), examine the relation between:\n",
    "  1. catchment area vs. fan area; \n",
    "  2. average slope of catchment area vs. fan area; \n",
    "  3. relief of catchment area vs. fan area. \n",
    "        \n",
    "  Be certain that your plots are labeled with appropriate axes labels and titles.  \n",
    "\n",
    "4. Melton (1965) proposed that a dimensionless number called the ruggedness number (Rn) could be used to explain fan size. Rn is defined as: $R_{n} = \\frac{H}{\\sqrt{A}}$ where H is the catchment relief [m] and A is the catchment area [$m^{2}$]. Is $R_{n}$ any better in terms of predicting fan area for Death Valley fans?\n",
    "\n",
    "5. Consult the Geologic maps of Death Valley. Does geology or faults play any role in fan size or location?\n",
    "\n",
    "6. Finally, consider the apparent asymmetry of fans that terminate in the vicinity of Badwater. What could explain why western fans are such much larger than those on the eastern side of the valley?\n"
   ]
  },
  {
   "cell_type": "markdown",
   "metadata": {},
   "source": [
    "## Those wanting to use python \n",
    "\n",
    "Let's first import some modules we'll need"
   ]
  },
  {
   "cell_type": "code",
   "execution_count": 25,
   "metadata": {},
   "outputs": [],
   "source": [
    "%matplotlib inline\n",
    "import pysal as ps  # 1.5 or higher\n",
    "import numpy as np  # 1.7 or higher\n",
    "import pandas as pd # 0.10 or higher\n",
    "import matplotlib.pyplot as plt\n",
    "from matplotlib import *\n"
   ]
  },
  {
   "cell_type": "code",
   "execution_count": 40,
   "metadata": {},
   "outputs": [
    {
     "data": {
      "text/html": [
       "<div>\n",
       "<style scoped>\n",
       "    .dataframe tbody tr th:only-of-type {\n",
       "        vertical-align: middle;\n",
       "    }\n",
       "\n",
       "    .dataframe tbody tr th {\n",
       "        vertical-align: top;\n",
       "    }\n",
       "\n",
       "    .dataframe thead th {\n",
       "        text-align: right;\n",
       "    }\n",
       "</style>\n",
       "<table border=\"1\" class=\"dataframe\">\n",
       "  <thead>\n",
       "    <tr style=\"text-align: right;\">\n",
       "      <th></th>\n",
       "      <th>basin_area</th>\n",
       "      <th>id</th>\n",
       "      <th>fan_area</th>\n",
       "      <th>basin_relief</th>\n",
       "    </tr>\n",
       "  </thead>\n",
       "  <tbody>\n",
       "    <tr>\n",
       "      <th>0</th>\n",
       "      <td>28956703.31</td>\n",
       "      <td>0</td>\n",
       "      <td>0.0</td>\n",
       "      <td>0.0</td>\n",
       "    </tr>\n",
       "    <tr>\n",
       "      <th>1</th>\n",
       "      <td>50774297.06</td>\n",
       "      <td>1</td>\n",
       "      <td>0.0</td>\n",
       "      <td>0.0</td>\n",
       "    </tr>\n",
       "    <tr>\n",
       "      <th>2</th>\n",
       "      <td>48755014.50</td>\n",
       "      <td>2</td>\n",
       "      <td>0.0</td>\n",
       "      <td>0.0</td>\n",
       "    </tr>\n",
       "    <tr>\n",
       "      <th>3</th>\n",
       "      <td>12853859.92</td>\n",
       "      <td>3</td>\n",
       "      <td>0.0</td>\n",
       "      <td>0.0</td>\n",
       "    </tr>\n",
       "    <tr>\n",
       "      <th>4</th>\n",
       "      <td>8827955.86</td>\n",
       "      <td>4</td>\n",
       "      <td>0.0</td>\n",
       "      <td>0.0</td>\n",
       "    </tr>\n",
       "  </tbody>\n",
       "</table>\n",
       "</div>"
      ],
      "text/plain": [
       "    basin_area  id  fan_area  basin_relief\n",
       "0  28956703.31   0       0.0           0.0\n",
       "1  50774297.06   1       0.0           0.0\n",
       "2  48755014.50   2       0.0           0.0\n",
       "3  12853859.92   3       0.0           0.0\n",
       "4   8827955.86   4       0.0           0.0"
      ]
     },
     "execution_count": 40,
     "metadata": {},
     "output_type": "execute_result"
    }
   ],
   "source": [
    "## open up fan shape file\n",
    "path = '/Users/menounos/Desktop/Teaching/GEOG333/Field_activities/2_Fan_morphometry/'\n",
    "## https://github.com/bmenounos/field_course/blob/master/data/fan_watersheds.shp\n",
    "file  = 'fan_watersheds.shp'\n",
    "## database file\n",
    "file2 = 'fan_watersheds.dbf'\n",
    "\n",
    "shp = ps.open(path + file)\n",
    "dbf = ps.open(path + file2)\n",
    "\n",
    "## create a dictionary (variable names and associated values) for each column\n",
    "## and then convert to a Pandas dataframe\n",
    "\n",
    "d = dict([(col, np.array(dbf.by_col(col))) for col in dbf.header])\n",
    "basins = pd.DataFrame(d)\n",
    "\n",
    "## make some empty areas to put your calculations in\n",
    "basins['fan_area'] = basins['basin_area'] * 0.0\n",
    "basins['basin_relief'] = basins['basin_area'] * 0.0\n",
    "\n",
    "basins.head()"
   ]
  },
  {
   "cell_type": "code",
   "execution_count": 41,
   "metadata": {},
   "outputs": [],
   "source": [
    "## to add values for basin 0's fan area, calculate area in Google Earth and then\n",
    "\n",
    "## basins['fan_area'] = [ value0, value1, ..., value n]\n",
    "\n",
    "basins['fan_area'] = 1e6 * np.arange(17)\n"
   ]
  },
  {
   "cell_type": "code",
   "execution_count": 44,
   "metadata": {},
   "outputs": [
    {
     "data": {
      "image/png": "[encoded data removed]",
      "text/plain": [
       "<Figure size 432x288 with 1 Axes>"
      ]
     },
     "metadata": {},
     "output_type": "display_data"
    }
   ],
   "source": [
    "## convert basin area from m2 to km2\n",
    "basins['basin_area'] = basins['basin_area']*1e-06\n",
    "\n",
    "## plot fan area versus basin area\n",
    "plt.plot(basins['basin_area'], basins['fan_area'], 'ro')\n",
    "plt.xlabel('Basin area (km$^{2}$)')\n",
    "plt.ylabel('Fan area (km$^{2}$)' )\n",
    "plt.suptitle('Death Valley')\n",
    "plt.title('Relation Between Fan and Basin Area')\n",
    "plt.savefig(path + 'fan_area.pdf', resolution = 600)\n",
    "plt.show()\n"
   ]
  },
  {
   "cell_type": "code",
   "execution_count": null,
   "metadata": {},
   "outputs": [],
   "source": []
  },
  {
   "cell_type": "code",
   "execution_count": null,
   "metadata": {},
   "outputs": [],
   "source": []
  }
 ],
 "metadata": {
  "anaconda-cloud": {},
  "kernelspec": {
   "display_name": "Python [conda env:anaconda]",
   "language": "python",
   "name": "conda-env-anaconda-py"
  },
  "language_info": {
   "codemirror_mode": {
    "name": "ipython",
    "version": 3
   },
   "file_extension": ".py",
   "mimetype": "text/x-python",
   "name": "python",
   "nbconvert_exporter": "python",
   "pygments_lexer": "ipython3",
   "version": "3.6.5"
  },
  "latex_envs": {
   "LaTeX_envs_menu_present": true,
   "bibliofile": "biblio.bib",
   "cite_by": "apalike",
   "current_citInitial": 1,
   "eqLabelWithNumbers": true,
   "eqNumInitial": 1,
   "labels_anchors": false,
   "latex_user_defs": false,
   "report_style_numbering": false,
   "user_envs_cfg": false
  }
 },
 "nbformat": 4,
 "nbformat_minor": 2
}
